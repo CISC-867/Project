{
 "cells": [
  {
   "cell_type": "code",
   "execution_count": 1,
   "metadata": {},
   "outputs": [
    {
     "data": {
      "text/plain": [
       "<module 'data.VCTK' from '/home/azureuser/dom/Project/data/VCTK.py'>"
      ]
     },
     "execution_count": 1,
     "metadata": {},
     "output_type": "execute_result"
    }
   ],
   "source": [
    "import importlib\n",
    "import model.trainer\n",
    "import torch\n",
    "import data.VCTK\n",
    "importlib.reload(model.trainer)\n",
    "importlib.reload(data.VCTK)"
   ]
  },
  {
   "cell_type": "code",
   "execution_count": 2,
   "metadata": {},
   "outputs": [
    {
     "name": "stdout",
     "output_type": "stream",
     "text": [
      "Using default model\n",
      "Using default vocoder\n",
      "Loading models from checkpoint 7\n",
      "Models loaded\n"
     ]
    }
   ],
   "source": [
    "trainer = model.trainer.Trainer(\n",
    "    device=torch.device(\"cuda\"),\n",
    "    checkpoint=7,\n",
    "    load_from_checkpoint=True\n",
    ")"
   ]
  },
  {
   "cell_type": "code",
   "execution_count": 3,
   "metadata": {},
   "outputs": [],
   "source": [
    "dataset = model.trainer.get_dataset()"
   ]
  },
  {
   "cell_type": "code",
   "execution_count": 12,
   "metadata": {},
   "outputs": [
    {
     "name": "stdout",
     "output_type": "stream",
     "text": [
      "1 16.961493\n"
     ]
    }
   ],
   "source": [
    "i=0\n",
    "while True:\n",
    "    total_loss, spectro_loss, vocoder_loss, spectro_pred, wav_pred = trainer.train_step(dataset[0])\n",
    "    i+=1\n",
    "    total_loss = total_loss.detach().to(\"cpu\").numpy()\n",
    "    print(i, total_loss)\n",
    "    if total_loss < 0:\n",
    "        break"
   ]
  }
 ],
 "metadata": {
  "interpreter": {
   "hash": "aaf752ee7e264d07f2aa436f1fcdea415bc1d1a9b82629a37d86a1397f966a41"
  },
  "kernelspec": {
   "display_name": "Python 3.6.9 64-bit ('azureml_py36_automl': conda)",
   "language": "python",
   "name": "python3"
  },
  "language_info": {
   "codemirror_mode": {
    "name": "ipython",
    "version": 3
   },
   "file_extension": ".py",
   "mimetype": "text/x-python",
   "name": "python",
   "nbconvert_exporter": "python",
   "pygments_lexer": "ipython3",
   "version": "3.6.12"
  },
  "orig_nbformat": 4
 },
 "nbformat": 4,
 "nbformat_minor": 2
}
