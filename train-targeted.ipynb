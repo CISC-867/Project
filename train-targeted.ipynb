{
 "cells": [
  {
   "cell_type": "code",
   "execution_count": 1,
   "metadata": {},
   "outputs": [],
   "source": [
    "import importlib\n",
    "import model.trainer\n",
    "import torch\n",
    "import data.VCTK"
   ]
  },
  {
   "cell_type": "code",
   "execution_count": 2,
   "metadata": {},
   "outputs": [
    {
     "name": "stdout",
     "output_type": "stream",
     "text": [
      "Loaded 1 entries\n"
     ]
    }
   ],
   "source": [
    "importlib.reload(data.VCTK)\n",
    "dataset = data.VCTK.VCTKDataset(\n",
    "    text_file_paths=[\"resources/tomscott/txt/tomscott.txt\"],\n",
    "    audio_file_paths=[\"resources/tomscott/wav48/tomscott.wav\"]\n",
    ")\n",
    "print(f\"Loaded {len(dataset)} entries\")"
   ]
  },
  {
   "cell_type": "code",
   "execution_count": 3,
   "metadata": {},
   "outputs": [
    {
     "name": "stdout",
     "output_type": "stream",
     "text": [
      "Using default model\n",
      "Using default vocoder\n",
      "Loading models from checkpoint 300478\n",
      "Models loaded\n"
     ]
    }
   ],
   "source": [
    "importlib.reload(model.trainer)\n",
    "trainer = model.trainer.Trainer(\n",
    "    device=torch.device(\"cuda\"),\n",
    "    checkpoint=300478,\n",
    "    checkpoint_dir=\"checkpoints/tom\",\n",
    "    load_from_checkpoint=True,\n",
    ")"
   ]
  },
  {
   "cell_type": "code",
   "execution_count": 4,
   "metadata": {},
   "outputs": [
    {
     "name": "stdout",
     "output_type": "stream",
     "text": [
      "Beginning training 10 epochs, logging every 1, saving every 10, batch size 4.\n"
     ]
    },
    {
     "name": "stderr",
     "output_type": "stream",
     "text": [
      "/home/azureuser/dom/Project/data/VCTK.py:76: UserWarning: Creating a tensor from a list of numpy.ndarrays is extremely slow. Please consider converting the list to a single numpy.ndarray with numpy.array() before converting to a tensor. (Triggered internally at  /opt/conda/conda-bld/pytorch_1634272168786/work/torch/csrc/utils/tensor_new.cpp:201.)\n",
      "  return text, torch.tensor(clips), torch.tensor(spectros)\n"
     ]
    },
    {
     "name": "stdout",
     "output_type": "stream",
     "text": [
      "epoch=0 batch=0/1 total_loss=2.99297 spectro_loss=1.96168 vocoder_loss=1.03128\n",
      "epoch=0 batch=1/2 total_loss=7.16833 spectro_loss=2.54194 vocoder_loss=4.62639\n",
      "epoch=0 batch=2/3 total_loss=6.88999 spectro_loss=1.84365 vocoder_loss=5.04634\n",
      "epoch=0 batch=3/4 total_loss=4.68984 spectro_loss=1.97989 vocoder_loss=2.70995\n",
      "epoch=0 batch=4/5 total_loss=3.81380 spectro_loss=1.73049 vocoder_loss=2.08331\n",
      "epoch=0 batch=5/6 total_loss=5.52765 spectro_loss=2.11316 vocoder_loss=3.41449\n",
      "epoch=0 batch=6/7 total_loss=5.44205 spectro_loss=1.71681 vocoder_loss=3.72524\n",
      "epoch=0 batch=7/8 total_loss=3.61754 spectro_loss=1.29513 vocoder_loss=2.32241\n",
      "epoch=0 batch=8/9 total_loss=3.22720 spectro_loss=1.72968 vocoder_loss=1.49752\n",
      "epoch=0 batch=9/10 total_loss=2.89721 spectro_loss=1.31237 vocoder_loss=1.58484\n",
      "Saving checkpoint 300488\n",
      "Saved\n",
      "epoch=0 batch=10/11 total_loss=4.02768 spectro_loss=1.69222 vocoder_loss=2.33546\n",
      "epoch=0 batch=11/12 total_loss=3.58910 spectro_loss=1.61379 vocoder_loss=1.97530\n",
      "epoch=0 batch=12/13 total_loss=2.79710 spectro_loss=1.63710 vocoder_loss=1.16000\n",
      "epoch=0 batch=13/14 total_loss=3.15871 spectro_loss=2.02709 vocoder_loss=1.13163\n",
      "epoch=0 batch=14/15 total_loss=2.89772 spectro_loss=1.52153 vocoder_loss=1.37619\n",
      "epoch=0 batch=15/16 total_loss=2.75751 spectro_loss=1.31312 vocoder_loss=1.44439\n",
      "epoch=0 batch=16/17 total_loss=2.76785 spectro_loss=1.45407 vocoder_loss=1.31379\n",
      "epoch=0 batch=17/18 total_loss=2.45313 spectro_loss=1.50898 vocoder_loss=0.94414\n",
      "epoch=0 batch=18/19 total_loss=2.20446 spectro_loss=1.42724 vocoder_loss=0.77723\n",
      "epoch=0 batch=19/20 total_loss=2.55051 spectro_loss=1.60001 vocoder_loss=0.95050\n",
      "Saving checkpoint 300498\n",
      "Saved\n",
      "epoch=0 batch=20/21 total_loss=1.79022 spectro_loss=0.96794 vocoder_loss=0.82228\n",
      "epoch=0 batch=21/22 total_loss=2.85259 spectro_loss=1.88768 vocoder_loss=0.96490\n",
      "epoch=0 batch=22/23 total_loss=2.25868 spectro_loss=1.46458 vocoder_loss=0.79410\n",
      "epoch=0 batch=23/24 total_loss=2.43136 spectro_loss=1.52741 vocoder_loss=0.90395\n",
      "epoch=0 batch=24/25 total_loss=3.23737 spectro_loss=2.15966 vocoder_loss=1.07771\n",
      "epoch=0 batch=25/26 total_loss=2.59098 spectro_loss=1.77172 vocoder_loss=0.81926\n",
      "epoch=0 batch=26/27 total_loss=2.16601 spectro_loss=1.34244 vocoder_loss=0.82357\n",
      "epoch=0 batch=27/28 total_loss=2.56886 spectro_loss=1.90688 vocoder_loss=0.66198\n",
      "epoch=0 batch=28/29 total_loss=1.83809 spectro_loss=1.15117 vocoder_loss=0.68691\n",
      "epoch=0 batch=29/30 total_loss=2.06582 spectro_loss=1.44830 vocoder_loss=0.61753\n",
      "Saving checkpoint 300508\n",
      "Saved\n",
      "epoch=0 batch=30/31 total_loss=2.78865 spectro_loss=1.79816 vocoder_loss=0.99049\n",
      "epoch=0 batch=31/32 total_loss=1.54130 spectro_loss=1.01111 vocoder_loss=0.53019\n",
      "epoch=0 batch=32/33 total_loss=1.98604 spectro_loss=1.36335 vocoder_loss=0.62269\n",
      "epoch=0 batch=33/34 total_loss=2.61661 spectro_loss=1.79031 vocoder_loss=0.82630\n",
      "epoch=0 batch=34/35 total_loss=1.69712 spectro_loss=1.15389 vocoder_loss=0.54323\n",
      "epoch=0 batch=35/36 total_loss=1.67594 spectro_loss=1.20631 vocoder_loss=0.46963\n",
      "epoch=0 batch=36/37 total_loss=1.27803 spectro_loss=0.77305 vocoder_loss=0.50498\n",
      "epoch=0 batch=37/38 total_loss=2.15507 spectro_loss=1.64363 vocoder_loss=0.51144\n",
      "epoch=0 batch=38/39 total_loss=1.29536 spectro_loss=0.96868 vocoder_loss=0.32669\n",
      "epoch=0 batch=39/40 total_loss=0.77694 spectro_loss=0.53216 vocoder_loss=0.24478\n",
      "Saving checkpoint 300518\n",
      "Saved\n",
      "epoch=0 batch=40/41 total_loss=3.30000 spectro_loss=2.62251 vocoder_loss=0.67749\n",
      "epoch=0 batch=41/42 total_loss=0.95875 spectro_loss=0.84028 vocoder_loss=0.11847\n",
      "epoch=1 batch=0/42 total_loss=2.44074 spectro_loss=1.97082 vocoder_loss=0.46992\n",
      "epoch=1 batch=1/42 total_loss=3.07509 spectro_loss=2.25996 vocoder_loss=0.81513\n",
      "epoch=1 batch=2/42 total_loss=2.10549 spectro_loss=1.65144 vocoder_loss=0.45406\n",
      "epoch=1 batch=3/42 total_loss=2.46679 spectro_loss=1.91700 vocoder_loss=0.54979\n",
      "epoch=1 batch=4/42 total_loss=1.96729 spectro_loss=1.62168 vocoder_loss=0.34561\n",
      "epoch=1 batch=5/42 total_loss=2.66752 spectro_loss=1.98686 vocoder_loss=0.68066\n",
      "epoch=1 batch=6/42 total_loss=2.12252 spectro_loss=1.60655 vocoder_loss=0.51596\n",
      "epoch=1 batch=7/42 total_loss=1.70833 spectro_loss=1.19203 vocoder_loss=0.51630\n",
      "epoch=1 batch=8/42 total_loss=2.01213 spectro_loss=1.64851 vocoder_loss=0.36362\n",
      "epoch=1 batch=9/42 total_loss=1.82465 spectro_loss=1.21575 vocoder_loss=0.60890\n",
      "Saving checkpoint 300530\n",
      "Saved\n",
      "epoch=1 batch=10/42 total_loss=1.99615 spectro_loss=1.58164 vocoder_loss=0.41451\n",
      "epoch=1 batch=11/42 total_loss=1.90742 spectro_loss=1.51342 vocoder_loss=0.39400\n",
      "epoch=1 batch=12/42 total_loss=2.00708 spectro_loss=1.55536 vocoder_loss=0.45171\n",
      "epoch=1 batch=13/42 total_loss=2.34453 spectro_loss=1.96336 vocoder_loss=0.38118\n",
      "epoch=1 batch=14/42 total_loss=2.02799 spectro_loss=1.45198 vocoder_loss=0.57602\n",
      "epoch=1 batch=15/42 total_loss=1.86586 spectro_loss=1.24680 vocoder_loss=0.61906\n",
      "epoch=1 batch=16/42 total_loss=1.81534 spectro_loss=1.40108 vocoder_loss=0.41427\n",
      "epoch=1 batch=17/42 total_loss=2.06651 spectro_loss=1.44232 vocoder_loss=0.62419\n",
      "epoch=1 batch=18/42 total_loss=1.68073 spectro_loss=1.36011 vocoder_loss=0.32062\n"
     ]
    }
   ],
   "source": [
    "trainer.train(\n",
    "    epochs=10,\n",
    "    dataset=dataset,\n",
    "    save_every_n=10,\n",
    "    batch_size=4,\n",
    "    run_name=\"runs/tom2\"\n",
    ")"
   ]
  },
  {
   "cell_type": "code",
   "execution_count": 26,
   "metadata": {},
   "outputs": [
    {
     "name": "stdout",
     "output_type": "stream",
     "text": [
      "Saving checkpoint 300478\n",
      "Saved\n"
     ]
    }
   ],
   "source": [
    "trainer.checkpoint+=1\n",
    "trainer.save()"
   ]
  }
 ],
 "metadata": {
  "interpreter": {
   "hash": "8505bd93e15232b680218bd613f68dd2d0ec76b40a79f48f6cb2b19121cd32c4"
  },
  "kernelspec": {
   "display_name": "Python 3.6.12 64-bit ('azureml_py36_pytorch': conda)",
   "language": "python",
   "name": "python3"
  },
  "language_info": {
   "codemirror_mode": {
    "name": "ipython",
    "version": 3
   },
   "file_extension": ".py",
   "mimetype": "text/x-python",
   "name": "python",
   "nbconvert_exporter": "python",
   "pygments_lexer": "ipython3",
   "version": "3.6.12"
  },
  "orig_nbformat": 4
 },
 "nbformat": 4,
 "nbformat_minor": 2
}
