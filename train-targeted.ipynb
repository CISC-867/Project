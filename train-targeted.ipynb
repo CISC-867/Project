{
 "cells": [
  {
   "cell_type": "code",
   "execution_count": 7,
   "metadata": {},
   "outputs": [],
   "source": [
    "import importlib\n",
    "import model.trainer\n",
    "import torch\n",
    "import data.VCTK"
   ]
  },
  {
   "cell_type": "code",
   "execution_count": 21,
   "metadata": {},
   "outputs": [
    {
     "name": "stdout",
     "output_type": "stream",
     "text": [
      "Loaded 1 entries\n"
     ]
    }
   ],
   "source": [
    "importlib.reload(data.VCTK)\n",
    "dataset = data.VCTK.VCTKDataset(\n",
    "    text_file_paths=[\"resources/tomscott/txt/tomscott.txt\"],\n",
    "    audio_file_paths=[\"resources/tomscott/wav48/tomscott.wav\"]\n",
    ")\n",
    "print(f\"Loaded {len(dataset)} entries\")"
   ]
  },
  {
   "cell_type": "code",
   "execution_count": 14,
   "metadata": {},
   "outputs": [],
   "source": [
    "example = dataset[0]"
   ]
  },
  {
   "cell_type": "code",
   "execution_count": 15,
   "metadata": {},
   "outputs": [
    {
     "name": "stdout",
     "output_type": "stream",
     "text": [
      "Entry 1 has 166 clips\n"
     ]
    }
   ],
   "source": [
    "print(f\"Entry 1 has {len(example[1])} clips\")"
   ]
  },
  {
   "cell_type": "code",
   "execution_count": 20,
   "metadata": {},
   "outputs": [
    {
     "name": "stdout",
     "output_type": "stream",
     "text": [
      "0\n"
     ]
    }
   ],
   "source": [
    "for i, v in enumerate(dataset.batched(2)):\n",
    "    print(i)"
   ]
  },
  {
   "cell_type": "code",
   "execution_count": 24,
   "metadata": {},
   "outputs": [
    {
     "name": "stdout",
     "output_type": "stream",
     "text": [
      "Using default model\n",
      "Using default vocoder\n",
      "Loading models from checkpoint 300435\n",
      "Models loaded\n"
     ]
    }
   ],
   "source": [
    "importlib.reload(model.trainer)\n",
    "trainer = model.trainer.Trainer(\n",
    "    device=torch.device(\"cuda\"),\n",
    "    checkpoint=300435,\n",
    "    checkpoint_dir=\"checkpoints/tom\",\n",
    "    load_from_checkpoint=True,\n",
    ")"
   ]
  },
  {
   "cell_type": "code",
   "execution_count": 25,
   "metadata": {},
   "outputs": [
    {
     "name": "stdout",
     "output_type": "stream",
     "text": [
      "Beginning training 1 epochs, logging every 1, saving every 10, batch size 4.\n",
      "epoch=0 i=0/1 total_loss=3.51217 spectro_loss=1.97876 vocoder_loss=1.53342\n",
      "epoch=0 i=1/2 total_loss=11.06479 spectro_loss=2.50389 vocoder_loss=8.56090\n",
      "epoch=0 i=2/3 total_loss=6.33685 spectro_loss=1.88812 vocoder_loss=4.44873\n",
      "epoch=0 i=3/4 total_loss=6.21865 spectro_loss=2.03115 vocoder_loss=4.18750\n",
      "epoch=0 i=4/5 total_loss=5.80224 spectro_loss=1.73636 vocoder_loss=4.06587\n",
      "epoch=0 i=5/6 total_loss=6.43464 spectro_loss=2.10046 vocoder_loss=4.33419\n",
      "epoch=0 i=6/7 total_loss=6.58096 spectro_loss=1.75846 vocoder_loss=4.82250\n",
      "epoch=0 i=7/8 total_loss=3.63872 spectro_loss=1.37758 vocoder_loss=2.26114\n",
      "epoch=0 i=8/9 total_loss=4.69582 spectro_loss=1.82286 vocoder_loss=2.87296\n",
      "epoch=0 i=9/10 total_loss=3.62541 spectro_loss=1.39245 vocoder_loss=2.23296\n",
      "Saving checkpoint 300445\n",
      "Saved\n",
      "epoch=0 i=10/11 total_loss=4.05074 spectro_loss=1.72806 vocoder_loss=2.32268\n",
      "epoch=0 i=11/12 total_loss=3.60696 spectro_loss=1.67763 vocoder_loss=1.92934\n",
      "epoch=0 i=12/13 total_loss=3.43309 spectro_loss=1.73816 vocoder_loss=1.69493\n",
      "epoch=0 i=13/14 total_loss=3.98190 spectro_loss=2.11977 vocoder_loss=1.86213\n",
      "epoch=0 i=14/15 total_loss=2.80266 spectro_loss=1.60259 vocoder_loss=1.20007\n",
      "epoch=0 i=15/16 total_loss=2.96748 spectro_loss=1.37431 vocoder_loss=1.59316\n",
      "epoch=0 i=16/17 total_loss=3.05912 spectro_loss=1.49139 vocoder_loss=1.56774\n",
      "epoch=0 i=17/18 total_loss=2.77949 spectro_loss=1.52312 vocoder_loss=1.25637\n",
      "epoch=0 i=18/19 total_loss=2.66901 spectro_loss=1.43423 vocoder_loss=1.23478\n",
      "epoch=0 i=19/20 total_loss=3.00553 spectro_loss=1.62609 vocoder_loss=1.37945\n",
      "Saving checkpoint 300455\n",
      "Saved\n",
      "epoch=0 i=20/21 total_loss=2.16210 spectro_loss=1.01437 vocoder_loss=1.14773\n",
      "epoch=0 i=21/22 total_loss=3.19825 spectro_loss=1.93064 vocoder_loss=1.26761\n",
      "epoch=0 i=22/23 total_loss=2.42993 spectro_loss=1.49318 vocoder_loss=0.93675\n",
      "epoch=0 i=23/24 total_loss=2.60304 spectro_loss=1.55619 vocoder_loss=1.04685\n",
      "epoch=0 i=24/25 total_loss=3.50440 spectro_loss=2.18133 vocoder_loss=1.32306\n",
      "epoch=0 i=25/26 total_loss=2.97573 spectro_loss=1.78608 vocoder_loss=1.18965\n",
      "epoch=0 i=26/27 total_loss=2.24714 spectro_loss=1.35893 vocoder_loss=0.88821\n",
      "epoch=0 i=27/28 total_loss=2.80852 spectro_loss=1.92350 vocoder_loss=0.88502\n",
      "epoch=0 i=28/29 total_loss=1.93604 spectro_loss=1.18137 vocoder_loss=0.75467\n",
      "epoch=0 i=29/30 total_loss=2.31379 spectro_loss=1.47317 vocoder_loss=0.84062\n",
      "Saving checkpoint 300465\n",
      "Saved\n",
      "epoch=0 i=30/31 total_loss=2.64269 spectro_loss=1.80740 vocoder_loss=0.83529\n",
      "epoch=0 i=31/32 total_loss=1.62074 spectro_loss=1.01277 vocoder_loss=0.60797\n",
      "epoch=0 i=32/33 total_loss=2.09474 spectro_loss=1.36291 vocoder_loss=0.73183\n",
      "epoch=0 i=33/34 total_loss=2.51164 spectro_loss=1.78770 vocoder_loss=0.72394\n",
      "epoch=0 i=34/35 total_loss=1.68945 spectro_loss=1.15603 vocoder_loss=0.53342\n",
      "epoch=0 i=35/36 total_loss=1.91546 spectro_loss=1.21223 vocoder_loss=0.70322\n",
      "epoch=0 i=36/37 total_loss=1.47519 spectro_loss=0.78290 vocoder_loss=0.69229\n",
      "epoch=0 i=37/38 total_loss=2.52502 spectro_loss=1.63288 vocoder_loss=0.89214\n",
      "epoch=0 i=38/39 total_loss=1.53367 spectro_loss=0.96838 vocoder_loss=0.56529\n",
      "epoch=0 i=39/40 total_loss=0.90888 spectro_loss=0.53095 vocoder_loss=0.37793\n",
      "Saving checkpoint 300475\n",
      "Saved\n",
      "epoch=0 i=40/41 total_loss=3.77643 spectro_loss=2.61683 vocoder_loss=1.15960\n",
      "epoch=0 i=41/42 total_loss=1.33298 spectro_loss=0.84088 vocoder_loss=0.49210\n"
     ]
    }
   ],
   "source": [
    "trainer.train(\n",
    "    epochs=1,\n",
    "    dataset=dataset,\n",
    "    save_every_n=10,\n",
    "    batch_size=4,\n",
    "    run_name=\"runs/tom2\"\n",
    ")"
   ]
  },
  {
   "cell_type": "code",
   "execution_count": 26,
   "metadata": {},
   "outputs": [
    {
     "name": "stdout",
     "output_type": "stream",
     "text": [
      "Saving checkpoint 300478\n",
      "Saved\n"
     ]
    }
   ],
   "source": [
    "trainer.checkpoint+=1\n",
    "trainer.save()"
   ]
  }
 ],
 "metadata": {
  "interpreter": {
   "hash": "8505bd93e15232b680218bd613f68dd2d0ec76b40a79f48f6cb2b19121cd32c4"
  },
  "kernelspec": {
   "display_name": "Python 3.6.12 64-bit ('azureml_py36_pytorch': conda)",
   "language": "python",
   "name": "python3"
  },
  "language_info": {
   "codemirror_mode": {
    "name": "ipython",
    "version": 3
   },
   "file_extension": ".py",
   "mimetype": "text/x-python",
   "name": "python",
   "nbconvert_exporter": "python",
   "pygments_lexer": "ipython3",
   "version": "3.6.12"
  },
  "orig_nbformat": 4
 },
 "nbformat": 4,
 "nbformat_minor": 2
}
