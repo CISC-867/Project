{
 "cells": [
  {
   "cell_type": "markdown",
   "metadata": {},
   "source": [
    "# Download data"
   ]
  },
  {
   "cell_type": "code",
   "execution_count": null,
   "metadata": {},
   "outputs": [],
   "source": [
    "import importlib\n",
    "\n",
    "from Project.data.VCTK import VCTKDataset\n",
    "# importlib.reload(Project.data.VCTK) # prevent cache when making changes\n",
    "\n",
    "dataset = VCTKDataset(vctk_dataset_path)\n",
    "print(len(dataset))\n",
    "print(dataset[0])"
   ]
  }
 ],
 "metadata": {
  "language_info": {
   "name": "plaintext"
  },
  "orig_nbformat": 4
 },
 "nbformat": 4,
 "nbformat_minor": 2
}
