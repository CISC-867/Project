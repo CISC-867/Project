{
 "cells": [
  {
   "cell_type": "markdown",
   "metadata": {},
   "source": [
    "# Clone WaveRNN repo"
   ]
  },
  {
   "cell_type": "code",
   "execution_count": 1,
   "metadata": {},
   "outputs": [
    {
     "name": "stdout",
     "output_type": "stream",
     "text": [
      "Cloning into 'ForwardTacotron'...\n",
      "remote: Enumerating objects: 5473, done.\u001b[K\n",
      "remote: Counting objects: 100% (1844/1844), done.\u001b[K\n",
      "remote: Compressing objects: 100% (744/744), done.\u001b[K\n",
      "remote: Total 5473 (delta 1342), reused 1512 (delta 1095), pack-reused 3629\u001b[K\n",
      "Receiving objects: 100% (5473/5473), 205.55 MiB | 22.36 MiB/s, done.\n",
      "Resolving deltas: 100% (3752/3752), done.\n",
      "HEAD is now at f537c5f Update README.md\n"
     ]
    }
   ],
   "source": [
    "# Clone the repo\n",
    "!git clone https://github.com/as-ideas/ForwardTacotron\n",
    "# Checkout to latest version as of the time this notebook was created\n",
    "!cd ForwardTacotron && git reset --hard \"f537c5f16f9459948b64f563749d65dcedacbe04\""
   ]
  },
  {
   "cell_type": "markdown",
   "metadata": {},
   "source": [
    "# Download data"
   ]
  },
  {
   "cell_type": "code",
   "execution_count": 2,
   "metadata": {},
   "outputs": [
    {
     "name": "stdout",
     "output_type": "stream",
     "text": [
      "--2021-12-02 21:14:44--  https://queensuca-my.sharepoint.com/:u:/g/personal/16drp4_queensu_ca/EfRSVbO-ohRFlUFhA9lx4qsBVl4s5FU676hF9uTRSAjOgg?download=1\n",
      "Resolving queensuca-my.sharepoint.com (queensuca-my.sharepoint.com)... 13.107.136.9, 13.107.138.9\n",
      "Connecting to queensuca-my.sharepoint.com (queensuca-my.sharepoint.com)|13.107.136.9|:443... connected.\n",
      "HTTP request sent, awaiting response... 302 Found\n",
      "Location: /personal/16drp4_queensu_ca/Documents/School%20Files/2021-2023,%20Masters/CISC%20867%20-%20Deep%20Learning/Datasets/VCTK-Corpus-smaller.tar.gz [following]\n",
      "--2021-12-02 21:14:45--  https://queensuca-my.sharepoint.com/personal/16drp4_queensu_ca/Documents/School%20Files/2021-2023,%20Masters/CISC%20867%20-%20Deep%20Learning/Datasets/VCTK-Corpus-smaller.tar.gz\n",
      "Reusing existing connection to queensuca-my.sharepoint.com:443.\n",
      "HTTP request sent, awaiting response... 200 OK\n",
      "Length: 556673395 (531M) [application/x-gzip]\n",
      "Saving to: ‘/content/VCTK-Corpus-smaller.tar.gz’\n",
      "\n",
      "/content/VCTK-Corpu 100%[===================>] 530.88M  44.8MB/s    in 15s     \n",
      "\n",
      "2021-12-02 21:15:00 (36.2 MB/s) - ‘/content/VCTK-Corpus-smaller.tar.gz’ saved [556673395/556673395]\n",
      "\n"
     ]
    }
   ],
   "source": [
    "Size = \"Smaller\" #@param [\"Full\", \"Small\", \"Smaller\"]\n",
    "if Size == \"Full\":\n",
    "  vctk_dataset_path = \"/content/VCTK-Corpus/\"\n",
    "  archive_path=\"/content/VCTK-Corpus.tar.gz\"\n",
    "  !test ! -e $archive_path && wget -O $archive_path \"https://queensuca-my.sharepoint.com/:u:/g/personal/16drp4_queensu_ca/EcnCAgHdAwBJmWk9vNcpiKgB5Rhi6GNtSchx6zGEhWe-fw?download=1\"\n",
    "  !test ! -e $vctk_dataset_path && tar -xf $archive_path -O $vctk_dataset_path\n",
    "elif Size == \"Small\":\n",
    "  vctk_dataset_path = \"/content/VCTK-Corpus-small/\"\n",
    "  !test ! -e /content/VCTK-Corpus-small.7z && wget -O /content/VCTK-Corpus-small.7z \"https://queensuca-my.sharepoint.com/:u:/g/personal/16drp4_queensu_ca/Ebz_WoXK4T9KjbJq_SFCsZQB94PqsKOnQ9HwB5olpGeQIw?download=1\"\n",
    "  !test ! -e $vctk_dataset_path && 7z x VCTK-Corpus-small.7z\n",
    "elif Size == \"Smaller\":\n",
    "  vctk_dataset_path = \"/content/VCTK-Corpus-smaller/\"\n",
    "  archive_path=\"/content/VCTK-Corpus-smaller.tar.gz\"\n",
    "  !test ! -e $archive_path && wget -O $archive_path \"https://queensuca-my.sharepoint.com/:u:/g/personal/16drp4_queensu_ca/EfRSVbO-ohRFlUFhA9lx4qsBVl4s5FU676hF9uTRSAjOgg?download=1\"\n",
    "  !test ! -e $vctk_dataset_path && tar -xzf $archive_path\n"
   ]
  },
  {
   "cell_type": "markdown",
   "metadata": {},
   "source": [
    "# Create dataset"
   ]
  },
  {
   "cell_type": "code",
   "execution_count": 8,
   "metadata": {},
   "outputs": [
    {
     "name": "stdout",
     "output_type": "stream",
     "text": [
      "/content\n"
     ]
    },
    {
     "data": {
      "application/vnd.jupyter.widget-view+json": {
       "model_id": "8cee0d3437004181a3413a9d3c42d56e",
       "version_major": 2,
       "version_minor": 0
      },
      "text/plain": [
       "  0%|          | 0/2118 [00:00<?, ?it/s]"
      ]
     },
     "metadata": {},
     "output_type": "display_data"
    },
    {
     "name": "stdout",
     "output_type": "stream",
     "text": [
      "2118\n",
      "('/content/VCTK-Corpus-smaller/txt/p225/p225_001.txt', (array([0.00399593, 0.00702291, 0.00598958, ..., 0.00792369, 0.00879966,\n",
      "       0.        ], dtype=float32), 22050))\n"
     ]
    }
   ],
   "source": [
    "import importlib\n",
    "%cd /content\n",
    "from Project.data.VCTK import VCTKDataset\n",
    "# importlib.reload(Project.data.VCTK) # prevent cache when making changes\n",
    "\n",
    "dataset = VCTKDataset(vctk_dataset_path)\n",
    "print(len(dataset))\n",
    "print(dataset[0])"
   ]
  }
 ],
 "metadata": {
  "interpreter": {
   "hash": "949777d72b0d2535278d3dc13498b2535136f6dfe0678499012e853ee9abcab1"
  },
  "kernelspec": {
   "display_name": "Python 3.7.12 64-bit",
   "language": "python",
   "name": "python3"
  },
  "language_info": {
   "codemirror_mode": {
    "name": "ipython",
    "version": 3
   },
   "file_extension": ".py",
   "mimetype": "text/x-python",
   "name": "python",
   "nbconvert_exporter": "python",
   "pygments_lexer": "ipython3",
   "version": "3.7.12"
  },
  "orig_nbformat": 4
 },
 "nbformat": 4,
 "nbformat_minor": 2
}
