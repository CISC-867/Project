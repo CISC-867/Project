{
 "cells": [
  {
   "cell_type": "markdown",
   "metadata": {},
   "source": [
    "# Clone WaveRNN repo"
   ]
  },
  {
   "cell_type": "code",
   "execution_count": 1,
   "metadata": {},
   "outputs": [
    {
     "name": "stdout",
     "output_type": "stream",
     "text": [
      "Cloning into 'ForwardTacotron'...\n",
      "remote: Enumerating objects: 5473, done.\u001b[K\n",
      "remote: Counting objects: 100% (1844/1844), done.\u001b[K\n",
      "remote: Compressing objects: 100% (744/744), done.\u001b[K\n",
      "remote: Total 5473 (delta 1342), reused 1512 (delta 1095), pack-reused 3629\u001b[K\n",
      "Receiving objects: 100% (5473/5473), 205.55 MiB | 22.68 MiB/s, done.\n",
      "Resolving deltas: 100% (3752/3752), done.\n",
      "HEAD is now at f537c5f Update README.md\n"
     ]
    }
   ],
   "source": [
    "# Clone the repo\n",
    "# https://github.com/as-ideas/ForwardTacotron\n",
    "# https://colab.research.google.com/github/as-ideas/ForwardTacotron/blob/master/notebooks/synthesize.ipynb#scrollTo=LHfPLGkqe-Jx\n",
    "!git clone https://github.com/as-ideas/ForwardTacotron\n",
    "# Checkout to latest version as of the time this notebook was created\n",
    "!cd ForwardTacotron && git reset --hard \"f537c5f16f9459948b64f563749d65dcedacbe04\""
   ]
  },
  {
   "cell_type": "markdown",
   "metadata": {},
   "source": [
    "# Download data"
   ]
  },
  {
   "cell_type": "code",
   "execution_count": 10,
   "metadata": {},
   "outputs": [],
   "source": [
    "Size = \"Smaller\" #@param [\"Full\", \"Small\", \"Smaller\"]\n",
    "if Size == \"Full\":\n",
    "  vctk_dataset_path = \"VCTK-Corpus/\"\n",
    "  archive_path=\"VCTK-Corpus.tar.gz\"\n",
    "  !test ! -e $archive_path && wget -O $archive_path \"https://queensuca-my.sharepoint.com/:u:/g/personal/16drp4_queensu_ca/EcnCAgHdAwBJmWk9vNcpiKgB5Rhi6GNtSchx6zGEhWe-fw?download=1\"\n",
    "  !test ! -e $vctk_dataset_path && tar -xf $archive_path -O $vctk_dataset_path\n",
    "elif Size == \"Small\":\n",
    "  vctk_dataset_path = \"VCTK-Corpus-small/\"\n",
    "  archive_path=\"VCTK-Corpus-small.7z\"\n",
    "  !test ! -e $archive_path && wget -O $archive_path \"https://queensuca-my.sharepoint.com/:u:/g/personal/16drp4_queensu_ca/Ebz_WoXK4T9KjbJq_SFCsZQB94PqsKOnQ9HwB5olpGeQIw?download=1\"\n",
    "  !test ! -e $vctk_dataset_path && 7z x $archive_path\n",
    "elif Size == \"Smaller\":\n",
    "  vctk_dataset_path = \"VCTK-Corpus-smaller/\"\n",
    "  archive_path=\"VCTK-Corpus-smaller.tar.gz\"\n",
    "  !test ! -e $archive_path && wget -O $archive_path \"https://queensuca-my.sharepoint.com/:u:/g/personal/16drp4_queensu_ca/EfRSVbO-ohRFlUFhA9lx4qsBVl4s5FU676hF9uTRSAjOgg?download=1\"\n",
    "  !test ! -e $vctk_dataset_path && tar -xzf $archive_path\n"
   ]
  },
  {
   "cell_type": "markdown",
   "metadata": {},
   "source": [
    "# Create dataset"
   ]
  },
  {
   "cell_type": "code",
   "execution_count": 19,
   "metadata": {},
   "outputs": [
    {
     "ename": "ModuleNotFoundError",
     "evalue": "No module named 'torch'",
     "output_type": "error",
     "traceback": [
      "\u001b[1;31m---------------------------------------------------------------------------\u001b[0m",
      "\u001b[1;31mModuleNotFoundError\u001b[0m                       Traceback (most recent call last)",
      "\u001b[1;32m~\\AppData\\Local\\Temp/ipykernel_10084/98512927.py\u001b[0m in \u001b[0;36m<module>\u001b[1;34m\u001b[0m\n\u001b[0;32m      1\u001b[0m \u001b[1;32mimport\u001b[0m \u001b[0mimportlib\u001b[0m\u001b[1;33m\u001b[0m\u001b[1;33m\u001b[0m\u001b[0m\n\u001b[1;32m----> 2\u001b[1;33m \u001b[1;32mimport\u001b[0m \u001b[0mdata\u001b[0m\u001b[1;33m.\u001b[0m\u001b[0mVCTK\u001b[0m\u001b[1;33m\u001b[0m\u001b[1;33m\u001b[0m\u001b[0m\n\u001b[0m\u001b[0;32m      3\u001b[0m \u001b[0mimportlib\u001b[0m\u001b[1;33m.\u001b[0m\u001b[0mreload\u001b[0m\u001b[1;33m(\u001b[0m\u001b[0mdata\u001b[0m\u001b[1;33m.\u001b[0m\u001b[0mVCTK\u001b[0m\u001b[1;33m)\u001b[0m \u001b[1;31m# prevent cache when making changes\u001b[0m\u001b[1;33m\u001b[0m\u001b[1;33m\u001b[0m\u001b[0m\n\u001b[0;32m      4\u001b[0m \u001b[1;32mfrom\u001b[0m \u001b[0mdata\u001b[0m\u001b[1;33m.\u001b[0m\u001b[0mVCTK\u001b[0m \u001b[1;32mimport\u001b[0m \u001b[0mVCTKDataset\u001b[0m\u001b[1;33m\u001b[0m\u001b[1;33m\u001b[0m\u001b[0m\n\u001b[0;32m      5\u001b[0m \u001b[1;33m\u001b[0m\u001b[0m\n",
      "\u001b[1;32md:\\Repos\\School\\CISC867-Project\\data\\VCTK.py\u001b[0m in \u001b[0;36m<module>\u001b[1;34m\u001b[0m\n\u001b[1;32m----> 1\u001b[1;33m \u001b[1;32mimport\u001b[0m \u001b[0mtorch\u001b[0m\u001b[1;33m\u001b[0m\u001b[1;33m\u001b[0m\u001b[0m\n\u001b[0m\u001b[0;32m      2\u001b[0m \u001b[1;32mimport\u001b[0m \u001b[0mos\u001b[0m\u001b[1;33m\u001b[0m\u001b[1;33m\u001b[0m\u001b[0m\n\u001b[0;32m      3\u001b[0m \u001b[1;32mimport\u001b[0m \u001b[0mglob\u001b[0m\u001b[1;33m\u001b[0m\u001b[1;33m\u001b[0m\u001b[0m\n\u001b[0;32m      4\u001b[0m \u001b[1;32mimport\u001b[0m \u001b[0mlibrosa\u001b[0m\u001b[1;33m\u001b[0m\u001b[1;33m\u001b[0m\u001b[0m\n\u001b[0;32m      5\u001b[0m \u001b[1;32mimport\u001b[0m \u001b[0mnumpy\u001b[0m \u001b[1;32mas\u001b[0m \u001b[0mnp\u001b[0m\u001b[1;33m\u001b[0m\u001b[1;33m\u001b[0m\u001b[0m\n",
      "\u001b[1;31mModuleNotFoundError\u001b[0m: No module named 'torch'"
     ]
    }
   ],
   "source": [
    "import importlib\n",
    "import data.VCTK\n",
    "importlib.reload(data.VCTK) # prevent cache when making changes\n",
    "from data.VCTK import VCTKDataset\n",
    "\n",
    "dataset = VCTKDataset(vctk_dataset_path)\n",
    "\n",
    "dataset.show(dataset[0])"
   ]
  },
  {
   "cell_type": "code",
   "execution_count": 20,
   "metadata": {},
   "outputs": [
    {
     "name": "stdout",
     "output_type": "stream",
     "text": [
      "archive already downloaded\n",
      "extracting archive\n"
     ]
    }
   ],
   "source": [
    "import importlib\n",
    "import data.VCTK\n",
    "importlib.reload(data.VCTK) # prevent cache when making changes\n",
    "data.VCTK.download_dataset(\"Smaller\", \"/content/\")"
   ]
  }
 ],
 "metadata": {
  "interpreter": {
   "hash": "949777d72b0d2535278d3dc13498b2535136f6dfe0678499012e853ee9abcab1"
  },
  "kernelspec": {
   "display_name": "Python 3.7.12 64-bit",
   "language": "python",
   "name": "python3"
  },
  "language_info": {
   "codemirror_mode": {
    "name": "ipython",
    "version": 3
   },
   "file_extension": ".py",
   "mimetype": "text/x-python",
   "name": "python",
   "nbconvert_exporter": "python",
   "pygments_lexer": "ipython3",
   "version": "3.7.12"
  },
  "orig_nbformat": 4
 },
 "nbformat": 4,
 "nbformat_minor": 2
}
