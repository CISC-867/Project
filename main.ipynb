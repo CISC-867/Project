{
 "cells": [
  {
   "cell_type": "markdown",
   "metadata": {},
   "source": [
    "# Clone WaveRNN repo"
   ]
  },
  {
   "cell_type": "code",
   "execution_count": 1,
   "metadata": {},
   "outputs": [
    {
     "name": "stdout",
     "output_type": "stream",
     "text": [
      "Cloning into 'ForwardTacotron'...\n",
      "remote: Enumerating objects: 5473, done.\u001b[K\n",
      "remote: Counting objects: 100% (1844/1844), done.\u001b[K\n",
      "remote: Compressing objects: 100% (742/742), done.\u001b[K\n",
      "remote: Total 5473 (delta 1341), reused 1515 (delta 1097), pack-reused 3629\u001b[K\n",
      "Receiving objects: 100% (5473/5473), 205.55 MiB | 13.96 MiB/s, done.\n",
      "Resolving deltas: 100% (3751/3751), done.\n",
      "HEAD is now at f537c5f Update README.md\n"
     ]
    }
   ],
   "source": [
    "# Clone the repo\n",
    "# https://github.com/as-ideas/ForwardTacotron\n",
    "# https://colab.research.google.com/github/as-ideas/ForwardTacotron/blob/master/notebooks/synthesize.ipynb#scrollTo=LHfPLGkqe-Jx\n",
    "!git clone https://github.com/as-ideas/ForwardTacotron\n",
    "# Checkout to latest version as of the time this notebook was created\n",
    "!cd ForwardTacotron && git reset --hard \"f537c5f16f9459948b64f563749d65dcedacbe04\""
   ]
  },
  {
   "cell_type": "markdown",
   "metadata": {},
   "source": [
    "# Download data"
   ]
  },
  {
   "cell_type": "code",
   "execution_count": 1,
   "metadata": {},
   "outputs": [],
   "source": [
    "Size = \"Smaller\" #@param [\"Full\", \"Small\", \"Smaller\"]\n",
    "if Size == \"Full\":\n",
    "  vctk_dataset_path = \"VCTK-Corpus/\"\n",
    "  archive_path=\"VCTK-Corpus.tar.gz\"\n",
    "  !test ! -e $archive_path && wget -O $archive_path \"https://queensuca-my.sharepoint.com/:u:/g/personal/16drp4_queensu_ca/EcnCAgHdAwBJmWk9vNcpiKgB5Rhi6GNtSchx6zGEhWe-fw?download=1\"\n",
    "  !test ! -e $vctk_dataset_path && tar -xf $archive_path -O $vctk_dataset_path\n",
    "elif Size == \"Small\":\n",
    "  vctk_dataset_path = \"VCTK-Corpus-small/\"\n",
    "  archive_path=\"VCTK-Corpus-small.7z\"\n",
    "  !test ! -e $archive_path && wget -O $archive_path \"https://queensuca-my.sharepoint.com/:u:/g/personal/16drp4_queensu_ca/Ebz_WoXK4T9KjbJq_SFCsZQB94PqsKOnQ9HwB5olpGeQIw?download=1\"\n",
    "  !test ! -e $vctk_dataset_path && 7z x $archive_path\n",
    "elif Size == \"Smaller\":\n",
    "  vctk_dataset_path = \"VCTK-Corpus-smaller/\"\n",
    "  archive_path=\"VCTK-Corpus-smaller.tar.gz\"\n",
    "  !test ! -e $archive_path && wget -O $archive_path \"https://queensuca-my.sharepoint.com/:u:/g/personal/16drp4_queensu_ca/EfRSVbO-ohRFlUFhA9lx4qsBVl4s5FU676hF9uTRSAjOgg?download=1\"\n",
    "  !test ! -e $vctk_dataset_path && tar -xzf $archive_path\n"
   ]
  },
  {
   "cell_type": "code",
   "execution_count": 2,
   "metadata": {},
   "outputs": [],
   "source": [
    "# %cd /content/Project"
   ]
  },
  {
   "cell_type": "markdown",
   "metadata": {},
   "source": [
    "# Create dataset"
   ]
  },
  {
   "cell_type": "code",
   "execution_count": 28,
   "metadata": {},
   "outputs": [
    {
     "name": "stdout",
     "output_type": "stream",
     "text": [
      "[(1, 2), (1, 2)]\n"
     ]
    }
   ],
   "source": [
    "a = []\n",
    "a.append((1,2))\n",
    "a.append((1,2))\n",
    "print(a)"
   ]
  },
  {
   "cell_type": "code",
   "execution_count": 37,
   "metadata": {},
   "outputs": [
    {
     "name": "stdout",
     "output_type": "stream",
     "text": [
      "Please call Stella.\n",
      "torch.Size([2, 25600])\n",
      "torch.Size([2, 80, 129])\n"
     ]
    },
    {
     "ename": "AttributeError",
     "evalue": "",
     "output_type": "error",
     "traceback": [
      "\u001b[0;31m---------------------------------------------------------------------------\u001b[0m",
      "\u001b[0;31mAttributeError\u001b[0m                            Traceback (most recent call last)",
      "\u001b[0;32m<ipython-input-37-05c265f6e3df>\u001b[0m in \u001b[0;36m<module>\u001b[0;34m()\u001b[0m\n\u001b[1;32m      9\u001b[0m \u001b[0mprint\u001b[0m\u001b[0;34m(\u001b[0m\u001b[0mclips\u001b[0m\u001b[0;34m.\u001b[0m\u001b[0mshape\u001b[0m\u001b[0;34m)\u001b[0m\u001b[0;34m\u001b[0m\u001b[0;34m\u001b[0m\u001b[0m\n\u001b[1;32m     10\u001b[0m \u001b[0mprint\u001b[0m\u001b[0;34m(\u001b[0m\u001b[0mspectros\u001b[0m\u001b[0;34m.\u001b[0m\u001b[0mshape\u001b[0m\u001b[0;34m)\u001b[0m\u001b[0;34m\u001b[0m\u001b[0;34m\u001b[0m\u001b[0m\n\u001b[0;32m---> 11\u001b[0;31m \u001b[0mdataset\u001b[0m\u001b[0;34m.\u001b[0m\u001b[0mshow_spectros\u001b[0m\u001b[0;34m(\u001b[0m\u001b[0mspectros\u001b[0m\u001b[0;34m)\u001b[0m\u001b[0;34m\u001b[0m\u001b[0;34m\u001b[0m\u001b[0m\n\u001b[0m",
      "\u001b[0;32m/usr/local/lib/python3.7/dist-packages/torch/utils/data/dataset.py\u001b[0m in \u001b[0;36m__getattr__\u001b[0;34m(self, attribute_name)\u001b[0m\n\u001b[1;32m     81\u001b[0m             \u001b[0;32mreturn\u001b[0m \u001b[0mfunction\u001b[0m\u001b[0;34m\u001b[0m\u001b[0;34m\u001b[0m\u001b[0m\n\u001b[1;32m     82\u001b[0m         \u001b[0;32melse\u001b[0m\u001b[0;34m:\u001b[0m\u001b[0;34m\u001b[0m\u001b[0;34m\u001b[0m\u001b[0m\n\u001b[0;32m---> 83\u001b[0;31m             \u001b[0;32mraise\u001b[0m \u001b[0mAttributeError\u001b[0m\u001b[0;34m\u001b[0m\u001b[0;34m\u001b[0m\u001b[0m\n\u001b[0m\u001b[1;32m     84\u001b[0m \u001b[0;34m\u001b[0m\u001b[0m\n\u001b[1;32m     85\u001b[0m     \u001b[0;34m@\u001b[0m\u001b[0mclassmethod\u001b[0m\u001b[0;34m\u001b[0m\u001b[0;34m\u001b[0m\u001b[0m\n",
      "\u001b[0;31mAttributeError\u001b[0m: "
     ]
    }
   ],
   "source": [
    "import importlib\n",
    "import data.VCTK\n",
    "import numpy as np\n",
    "importlib.reload(data.VCTK) # prevent cache when making changes\n",
    "\n",
    "dataset = data.VCTK.VCTKDataset(vctk_dataset_path)\n",
    "text, clips, spectros = dataset[0]\n",
    "print(text)\n",
    "print(clips.shape)\n",
    "print(spectros.shape)\n",
    "dataset.show_spectros(spectros)"
   ]
  },
  {
   "cell_type": "code",
   "execution_count": 6,
   "metadata": {},
   "outputs": [
    {
     "name": "stdout",
     "output_type": "stream",
     "text": [
      "Collecting webrtcvad\n",
      "  Downloading webrtcvad-2.0.10.tar.gz (66 kB)\n",
      "\u001b[K     |████████████████████████████████| 66 kB 2.4 MB/s \n",
      "\u001b[?25hBuilding wheels for collected packages: webrtcvad\n",
      "  Building wheel for webrtcvad (setup.py) ... \u001b[?25l\u001b[?25hdone\n",
      "  Created wheel for webrtcvad: filename=webrtcvad-2.0.10-cp37-cp37m-linux_x86_64.whl size=72475 sha256=e9bbfb44cb0ad2d73aa8b89fc0062f27eb4680a43133bd49188720dcfee5170d\n",
      "  Stored in directory: /root/.cache/pip/wheels/11/f9/67/a3158d131f57e1c0a7d8d966a707d4a2fb27567a4fe47723ad\n",
      "Successfully built webrtcvad\n",
      "Installing collected packages: webrtcvad\n",
      "Successfully installed webrtcvad-2.0.10\n"
     ]
    }
   ],
   "source": [
    "!pip install webrtcvad"
   ]
  },
  {
   "cell_type": "code",
   "execution_count": 17,
   "metadata": {},
   "outputs": [
    {
     "name": "stdout",
     "output_type": "stream",
     "text": [
      "torch.Size([2, 80, 129])\n"
     ]
    }
   ],
   "source": [
    "import model.model\n",
    "importlib.reload(model.model) # prevent cache when making changes\n",
    "\n",
    "model = model.model.FullModel()\n",
    "# print(model)\n",
    "\n",
    "text, clips = dataset[0]\n",
    "x = clips\n",
    "print(x.shape)\n",
    "# y_pred = model(x)\n",
    "# print(y_pred.shape)"
   ]
  }
 ],
 "metadata": {
  "interpreter": {
   "hash": "949777d72b0d2535278d3dc13498b2535136f6dfe0678499012e853ee9abcab1"
  },
  "kernelspec": {
   "display_name": "Python 3.7.12 64-bit",
   "language": "python",
   "name": "python3"
  },
  "language_info": {
   "codemirror_mode": {
    "name": "ipython",
    "version": 3
   },
   "file_extension": ".py",
   "mimetype": "text/x-python",
   "name": "python",
   "nbconvert_exporter": "python",
   "pygments_lexer": "ipython3",
   "version": "3.7.12"
  },
  "orig_nbformat": 4
 },
 "nbformat": 4,
 "nbformat_minor": 2
}
