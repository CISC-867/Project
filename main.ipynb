{
 "cells": [
  {
   "cell_type": "markdown",
   "metadata": {},
   "source": [
    "# Download data"
   ]
  },
  {
   "cell_type": "code",
   "execution_count": 3,
   "metadata": {},
   "outputs": [],
   "source": [
    "Size = \"Smaller\" #@param [\"Full\", \"Small\", \"Smaller\"]\n",
    "if Size == \"Full\":\n",
    "  vctk_dataset_path = \"/content/VCTK-Corpus/\"\n",
    "  archive_path=\"/content/VCTK-Corpus.tar.gz\"\n",
    "  !test ! -e $archive_path && wget -O $archive_path \"https://queensuca-my.sharepoint.com/:u:/g/personal/16drp4_queensu_ca/EcnCAgHdAwBJmWk9vNcpiKgB5Rhi6GNtSchx6zGEhWe-fw?download=1\"\n",
    "  !test ! -e $vctk_dataset_path && tar -xf $archive_path -O $vctk_dataset_path\n",
    "elif Size == \"Small\":\n",
    "  vctk_dataset_path = \"/content/VCTK-Corpus-small/\"\n",
    "  !test ! -e /content/VCTK-Corpus-small.7z && wget -O /content/VCTK-Corpus-small.7z \"https://queensuca-my.sharepoint.com/:u:/g/personal/16drp4_queensu_ca/Ebz_WoXK4T9KjbJq_SFCsZQB94PqsKOnQ9HwB5olpGeQIw?download=1\"\n",
    "  !test ! -e $vctk_dataset_path && 7z x VCTK-Corpus-small.7z\n",
    "elif Size == \"Smaller\":\n",
    "  vctk_dataset_path = \"/content/VCTK-Corpus-smaller/\"\n",
    "  archive_path=\"/content/VCTK-Corpus-smaller.tar.gz\"\n",
    "  !test ! -e $archive_path && wget -O $archive_path \"https://queensuca-my.sharepoint.com/:u:/g/personal/16drp4_queensu_ca/EfRSVbO-ohRFlUFhA9lx4qsBVl4s5FU676hF9uTRSAjOgg?download=1\"\n",
    "  !test ! -e $vctk_dataset_path && tar -xzf $archive_path\n"
   ]
  },
  {
   "cell_type": "markdown",
   "metadata": {},
   "source": [
    "# Create dataset"
   ]
  },
  {
   "cell_type": "code",
   "execution_count": 8,
   "metadata": {},
   "outputs": [
    {
     "name": "stdout",
     "output_type": "stream",
     "text": [
      "/content\n"
     ]
    },
    {
     "data": {
      "application/vnd.jupyter.widget-view+json": {
       "model_id": "8cee0d3437004181a3413a9d3c42d56e",
       "version_major": 2,
       "version_minor": 0
      },
      "text/plain": [
       "  0%|          | 0/2118 [00:00<?, ?it/s]"
      ]
     },
     "metadata": {},
     "output_type": "display_data"
    },
    {
     "name": "stdout",
     "output_type": "stream",
     "text": [
      "2118\n",
      "('/content/VCTK-Corpus-smaller/txt/p225/p225_001.txt', (array([0.00399593, 0.00702291, 0.00598958, ..., 0.00792369, 0.00879966,\n",
      "       0.        ], dtype=float32), 22050))\n"
     ]
    }
   ],
   "source": [
    "import importlib\n",
    "%cd /content\n",
    "from Project.data.VCTK import VCTKDataset\n",
    "# importlib.reload(Project.data.VCTK) # prevent cache when making changes\n",
    "\n",
    "dataset = VCTKDataset(vctk_dataset_path)\n",
    "print(len(dataset))\n",
    "print(dataset[0])"
   ]
  }
 ],
 "metadata": {
  "interpreter": {
   "hash": "949777d72b0d2535278d3dc13498b2535136f6dfe0678499012e853ee9abcab1"
  },
  "kernelspec": {
   "display_name": "Python 3.7.12 64-bit",
   "language": "python",
   "name": "python3"
  },
  "language_info": {
   "codemirror_mode": {
    "name": "ipython",
    "version": 3
   },
   "file_extension": ".py",
   "mimetype": "text/x-python",
   "name": "python",
   "nbconvert_exporter": "python",
   "pygments_lexer": "ipython3",
   "version": "3.7.12"
  },
  "orig_nbformat": 4
 },
 "nbformat": 4,
 "nbformat_minor": 2
}
