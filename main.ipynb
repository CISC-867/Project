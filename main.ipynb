{
 "cells": [
  {
   "cell_type": "markdown",
   "metadata": {},
   "source": [
    "# Clone WaveRNN repo"
   ]
  },
  {
   "cell_type": "code",
   "execution_count": 1,
   "metadata": {},
   "outputs": [
    {
     "name": "stdout",
     "output_type": "stream",
     "text": [
      "Cloning into 'ForwardTacotron'...\n",
      "remote: Enumerating objects: 5473, done.\u001b[K\n",
      "remote: Counting objects: 100% (1844/1844), done.\u001b[K\n",
      "remote: Compressing objects: 100% (744/744), done.\u001b[K\n",
      "remote: Total 5473 (delta 1342), reused 1512 (delta 1095), pack-reused 3629\u001b[K\n",
      "Receiving objects: 100% (5473/5473), 205.55 MiB | 22.36 MiB/s, done.\n",
      "Resolving deltas: 100% (3752/3752), done.\n",
      "HEAD is now at f537c5f Update README.md\n"
     ]
    }
   ],
   "source": [
    "# Clone the repo\n",
    "!git clone https://github.com/as-ideas/ForwardTacotron\n",
    "# Checkout to latest version as of the time this notebook was created\n",
    "!cd ForwardTacotron && git reset --hard \"f537c5f16f9459948b64f563749d65dcedacbe04\""
   ]
  },
  {
   "cell_type": "markdown",
   "metadata": {},
   "source": [
    "# Download data"
   ]
  },
  {
   "cell_type": "code",
   "execution_count": 10,
   "metadata": {},
   "outputs": [],
   "source": [
    "Size = \"Smaller\" #@param [\"Full\", \"Small\", \"Smaller\"]\n",
    "if Size == \"Full\":\n",
    "  vctk_dataset_path = \"VCTK-Corpus/\"\n",
    "  archive_path=\"VCTK-Corpus.tar.gz\"\n",
    "  !test ! -e $archive_path && wget -O $archive_path \"https://queensuca-my.sharepoint.com/:u:/g/personal/16drp4_queensu_ca/EcnCAgHdAwBJmWk9vNcpiKgB5Rhi6GNtSchx6zGEhWe-fw?download=1\"\n",
    "  !test ! -e $vctk_dataset_path && tar -xf $archive_path -O $vctk_dataset_path\n",
    "elif Size == \"Small\":\n",
    "  vctk_dataset_path = \"VCTK-Corpus-small/\"\n",
    "  archive_path=\"VCTK-Corpus-small.7z\"\n",
    "  !test ! -e $archive_path && wget -O $archive_path \"https://queensuca-my.sharepoint.com/:u:/g/personal/16drp4_queensu_ca/Ebz_WoXK4T9KjbJq_SFCsZQB94PqsKOnQ9HwB5olpGeQIw?download=1\"\n",
    "  !test ! -e $vctk_dataset_path && 7z x $archive_path\n",
    "elif Size == \"Smaller\":\n",
    "  vctk_dataset_path = \"VCTK-Corpus-smaller/\"\n",
    "  archive_path=\"VCTK-Corpus-smaller.tar.gz\"\n",
    "  !test ! -e $archive_path && wget -O $archive_path \"https://queensuca-my.sharepoint.com/:u:/g/personal/16drp4_queensu_ca/EfRSVbO-ohRFlUFhA9lx4qsBVl4s5FU676hF9uTRSAjOgg?download=1\"\n",
    "  !test ! -e $vctk_dataset_path && tar -xzf $archive_path\n"
   ]
  },
  {
   "cell_type": "markdown",
   "metadata": {},
   "source": [
    "# Create dataset"
   ]
  },
  {
   "cell_type": "code",
   "execution_count": 20,
   "metadata": {},
   "outputs": [
    {
     "name": "stdout",
     "output_type": "stream",
     "text": [
      "22050 [0.00399593 0.00702291 0.00598958 ... 0.00792369 0.00879966 0.        ]\n",
      "[0.0039468  0.0069184  0.00594094 ... 0.00920789 0.00394091 0.        ]\n"
     ]
    }
   ],
   "source": [
    "path=\"VCTK-Corpus-smaller/wav48/p225/p225_001.wav\"\n",
    "import librosa\n",
    "x, sr = librosa.load(path)\n",
    "print(sr, x)\n",
    "x = librosa.resample(x, sr, 16000)\n",
    "print(x)"
   ]
  },
  {
   "cell_type": "code",
   "execution_count": 33,
   "metadata": {},
   "outputs": [
    {
     "name": "stdout",
     "output_type": "stream",
     "text": [
      "Loaded 2118 entries\n",
      "('Please call Stella.', array([0.0039468 , 0.0069184 , 0.00594094, ..., 0.00920789, 0.00394091,\n",
      "       0.        ], dtype=float32))\n"
     ]
    }
   ],
   "source": [
    "import importlib\n",
    "import data.VCTK\n",
    "importlib.reload(data.VCTK) # prevent cache when making changes\n",
    "from data.VCTK import VCTKDataset\n",
    "\n",
    "dataset = VCTKDataset(vctk_dataset_path)\n",
    "print(f\"Loaded {len(dataset)} entries\")\n",
    "print(dataset[0])"
   ]
  }
 ],
 "metadata": {
  "interpreter": {
   "hash": "949777d72b0d2535278d3dc13498b2535136f6dfe0678499012e853ee9abcab1"
  },
  "kernelspec": {
   "display_name": "Python 3.7.12 64-bit",
   "language": "python",
   "name": "python3"
  },
  "language_info": {
   "codemirror_mode": {
    "name": "ipython",
    "version": 3
   },
   "file_extension": ".py",
   "mimetype": "text/x-python",
   "name": "python",
   "nbconvert_exporter": "python",
   "pygments_lexer": "ipython3",
   "version": "3.7.12"
  },
  "orig_nbformat": 4
 },
 "nbformat": 4,
 "nbformat_minor": 2
}
