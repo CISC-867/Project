{
 "cells": [
  {
   "cell_type": "code",
   "execution_count": 1,
   "metadata": {},
   "outputs": [
    {
     "name": "stdout",
     "output_type": "stream",
     "text": [
      "starting tensor([[[1., 2., 3.],\n",
      "         [4., 5., 6.],\n",
      "         [7., 8., 9.]],\n",
      "\n",
      "        [[1., 2., 3.],\n",
      "         [4., 5., 6.],\n",
      "         [7., 8., 9.]]]) torch.Size([2, 3, 3])\n",
      "reduced tensor([[[1., 2., 3.]],\n",
      "\n",
      "        [[1., 2., 3.]]]) torch.Size([2, 1, 3])\n",
      "growing tensor([[[1., 2., 3., 1., 2., 3., 1., 2., 3.]],\n",
      "\n",
      "        [[1., 2., 3., 1., 2., 3., 1., 2., 3.]]]) torch.Size([2, 1, 9])\n",
      "restored tensor([[[1., 2., 3.],\n",
      "         [1., 2., 3.],\n",
      "         [1., 2., 3.]],\n",
      "\n",
      "        [[1., 2., 3.],\n",
      "         [1., 2., 3.],\n",
      "         [1., 2., 3.]]]) torch.Size([2, 3, 3])\n"
     ]
    }
   ],
   "source": [
    "import torch, torch.nn\n",
    "\n",
    "# example data\n",
    "x = torch.arange(1,3*3+1, dtype=torch.float32).view(1,-1,3).repeat(2,1,1)\n",
    "print(\"starting\", x, x.shape)\n",
    "\n",
    "# downsample, take every 3rd sample\n",
    "reduction_factor=3\n",
    "x = x[:,::reduction_factor,:]\n",
    "print(\"reduced\", x, x.shape)\n",
    "\n",
    "# upsample, replicate every sample three times\n",
    "y = x.repeat(1,1,reduction_factor)\n",
    "print(\"growing\", y, y.shape)\n",
    "\n",
    "x = y.reshape(x.size(0),-1,x.size(2))\n",
    "print(\"restored\", x, x.shape)"
   ]
  }
 ],
 "metadata": {
  "interpreter": {
   "hash": "31f2aee4e71d21fbe5cf8b01ff0e069b9275f58929596ceb00d14d90e3e16cd6"
  },
  "kernelspec": {
   "display_name": "Python 3.7.12 64-bit",
   "language": "python",
   "name": "python3"
  },
  "language_info": {
   "codemirror_mode": {
    "name": "ipython",
    "version": 3
   },
   "file_extension": ".py",
   "mimetype": "text/x-python",
   "name": "python",
   "nbconvert_exporter": "python",
   "pygments_lexer": "ipython3",
   "version": "3.7.12"
  },
  "orig_nbformat": 4
 },
 "nbformat": 4,
 "nbformat_minor": 2
}
